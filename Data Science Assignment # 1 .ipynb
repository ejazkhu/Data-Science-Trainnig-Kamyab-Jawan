{
 "cells": [
  {
   "cell_type": "code",
   "execution_count": 21,
   "metadata": {},
   "outputs": [
    {
     "name": "stdout",
     "output_type": "stream",
     "text": [
      "Twinkle, twinkle, little star, \n",
      "\tHow I wonder what you are! \n",
      "\t\tUp above the world so high, \n",
      "\t\tLike a diamond in the sky.\n",
      "Twinkle, twinkle, little star \n",
      "\tHow I wonder what you are\n"
     ]
    }
   ],
   "source": [
    "print('Twinkle, twinkle, little star, \\n\\tHow I wonder what you are! \\n\\t\\tUp above the world so high, \\n\\t\\tLike a diamond in the sky.\\nTwinkle, twinkle, little star \\n\\tHow I wonder what you are')"
   ]
  },
  {
   "cell_type": "code",
   "execution_count": 24,
   "metadata": {},
   "outputs": [
    {
     "name": "stdout",
     "output_type": "stream",
     "text": [
      "Python version\n",
      "3.8.5 (default, Sep  3 2020, 21:29:08) [MSC v.1916 64 bit (AMD64)]\n"
     ]
    }
   ],
   "source": [
    "import sys\n",
    "print(\"Python version\")\n",
    "print (sys.version)"
   ]
  },
  {
   "cell_type": "code",
   "execution_count": 28,
   "metadata": {},
   "outputs": [
    {
     "name": "stdout",
     "output_type": "stream",
     "text": [
      "Current date and time is: \n",
      "2021-12-30 19:01:28.603108\n"
     ]
    }
   ],
   "source": [
    "import datetime\n",
    "now = datetime.datetime.now()\n",
    "print (\"Current date and time is: \")\n",
    "print (now)"
   ]
  },
  {
   "cell_type": "code",
   "execution_count": 35,
   "metadata": {},
   "outputs": [
    {
     "name": "stdout",
     "output_type": "stream",
     "text": [
      "Enter a  size of a Radius:4\n",
      "Area of circle is: \n",
      "50.24\n"
     ]
    }
   ],
   "source": [
    "num = int(input(\"Enter a  size of a Radius:\"))\n",
    "area = 3.14 * pow(num, 2)\n",
    "print('Area of circle is: ')\n",
    "print(area)"
   ]
  },
  {
   "cell_type": "code",
   "execution_count": 39,
   "metadata": {},
   "outputs": [
    {
     "name": "stdout",
     "output_type": "stream",
     "text": [
      "Enter Your First Name: Khurram\n",
      "Enter Your Last Name: Ejaz\n",
      "zajE marruhK\n"
     ]
    }
   ],
   "source": [
    "first_name = str(input('Enter Your First Name: '))\n",
    "str_len = len(first_name)\n",
    "str_rev_fst = first_name[str_len::-1]\n",
    "last_name = str(input('Enter Your Last Name: '))\n",
    "str_len = len(last_name)\n",
    "str_rev_scd = last_name[str_len::-1]\n",
    "print(str_rev_scd + ' ' + str_rev_fst)"
   ]
  },
  {
   "cell_type": "code",
   "execution_count": 41,
   "metadata": {},
   "outputs": [
    {
     "name": "stdout",
     "output_type": "stream",
     "text": [
      "Enter a  first Number:12\n",
      "Enter a  Second Number:43\n",
      "Answer is: \n",
      "55\n"
     ]
    }
   ],
   "source": [
    "num_1 = int(input(\"Enter a  first Number:\"))\n",
    "num_2 = int(input(\"Enter a  Second Number:\"))\n",
    "answer =  num_1 + num_2\n",
    "print('Answer is: ')\n",
    "print(answer)"
   ]
  }
 ],
 "metadata": {
  "kernelspec": {
   "display_name": "Python 3",
   "language": "python",
   "name": "python3"
  },
  "language_info": {
   "codemirror_mode": {
    "name": "ipython",
    "version": 3
   },
   "file_extension": ".py",
   "mimetype": "text/x-python",
   "name": "python",
   "nbconvert_exporter": "python",
   "pygments_lexer": "ipython3",
   "version": "3.8.5"
  }
 },
 "nbformat": 4,
 "nbformat_minor": 4
}
