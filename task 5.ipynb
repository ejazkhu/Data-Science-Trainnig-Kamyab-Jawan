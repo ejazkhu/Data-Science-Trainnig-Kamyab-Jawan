{
 "cells": [
  {
   "cell_type": "code",
   "execution_count": null,
   "metadata": {},
   "outputs": [],
   "source": [
    "first_name = str(input('Enter Your First Name: '))\n",
    "str_len = len(first_name)\n",
    "str_rev_fst = first_name[str_len::-1]\n",
    "last_name = str(input('Enter Your Last Name: '))\n",
    "str_len = len(last_name)\n",
    "str_rev_scd = last_name[str_len::-1]\n",
    "print(str_rev_scd + ' ' + str_rev_fst)"
   ]
  }
 ],
 "metadata": {
  "kernelspec": {
   "display_name": "Python 3",
   "language": "python",
   "name": "python3"
  },
  "language_info": {
   "codemirror_mode": {
    "name": "ipython",
    "version": 3
   },
   "file_extension": ".py",
   "mimetype": "text/x-python",
   "name": "python",
   "nbconvert_exporter": "python",
   "pygments_lexer": "ipython3",
   "version": "3.8.5"
  }
 },
 "nbformat": 4,
 "nbformat_minor": 4
}
